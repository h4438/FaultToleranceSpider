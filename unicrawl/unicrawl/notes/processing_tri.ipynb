{
 "cells": [
  {
   "cell_type": "code",
   "execution_count": 1,
   "metadata": {},
   "outputs": [
    {
     "name": "stdout",
     "output_type": "stream",
     "text": [
      "['ukh.jsonl', 'tucst.jsonl', 'sis.jsonl', 'ulis.jsonl', 'uhl.jsonl', 'usth.jsonl', 'hcmue.jsonl', 'hup.jsonl', 'vnuf.jsonl', 'vlute.jsonl', 'hcmou.jsonl', 'bguaf.jsonl', 'dhhp.jsonl', 'uah.jsonl', 'dumtp.jsonl', 'dsu.jsonl', 'dpc.jsonl', 'vya.jsonl', 'vju.jsonl', 'hussh.jsonl', 'ufm.jsonl', 'hnmu.jsonl', 'hub.jsonl', 'dch.jsonl', 'huclf.jsonl', 'pvu.jsonl', 'hcmufa.jsonl', 'haui.jsonl', 'uhd.jsonl', 'nqh.jsonl', 'bav.jsonl', 'ndun.jsonl', 'nlu.jsonl', 'hcmute.jsonl', 'hpmu.jsonl', 'pyu.jsonl', 'ueb.jsonl', 'heh.jsonl', 'vutm.jsonl', 'vca.jsonl', 'kqh.jsonl', 'htu.jsonl', 'huph.jsonl', 'hgh.jsonl', 'cot.jsonl', 'hict.jsonl', 'naue.jsonl', 'pntu.jsonl', 'nute.jsonl', 'tdmu.jsonl', 'hlu.jsonl', 'ueh.jsonl', 'yqh.jsonl', 'tuu.jsonl', 'lch.jsonl', 'cd_qph.jsonl', 'skda.jsonl', 'sms.jsonl', 'qph.jsonl', 'scls.jsonl', 'hlvu.jsonl', 'ufa.jsonl', 'dcl.jsonl', 'hdu.jsonl', 'vmu.jsonl', 'ydh.jsonl', 'tgu.jsonl', 'dvb.jsonl', 'kma.jsonl', 'vaem.jsonl', 'lah.jsonl', 'tlu.jsonl', 'sme.jsonl', 'hua.jsonl', 'skdahcm.jsonl', 'aof.jsonl', 'dnu.jsonl', 'vnuis.jsonl', 'hsb.jsonl', 'husc.jsonl', 'gust.jsonl', 'uet.jsonl', 'tdnu.jsonl', 'znh.jsonl', 'tth.jsonl', 'ulaw.jsonl', 'huaf.jsonl', 'huht.jsonl', 'tbump.jsonl', 'hvc.jsonl', 'vhs.jsonl', 'tbu.jsonl', 'hul.jsonl', 'bph.jsonl', 'yds.jsonl', 'ctut.jsonl', 'soict.jsonl', 'hus.jsonl', 'hvu.jsonl', 'pdu.jsonl', 'upes1.jsonl', 'ued.jsonl', 'hvct.jsonl', 'pkh.jsonl', 'dtt.jsonl', 'hmtu.jsonl', 'VinhUTE.jsonl', 'ham.jsonl', 'ulsa.jsonl', 'qbu.jsonl']\n"
     ]
    }
   ],
   "source": [
    "import os\n",
    "\n",
    "# Đường dẫn đến thư mục chứa các tệp cần đọc\n",
    "directory_path = '/Users/duongtrongchi/Documents/html_data/b/'\n",
    "directory_path = \"../data/html_data\"\n",
    "\n",
    "# Lấy danh sách tất cả các tệp trong thư mục\n",
    "file_list = os.listdir(directory_path)\n",
    "print(file_list)\n"
   ]
  },
  {
   "cell_type": "code",
   "execution_count": 2,
   "metadata": {},
   "outputs": [],
   "source": [
    "import json\n",
    "\n",
    "data = []\n",
    "for filename in file_list:\n",
    "    # Tạo đường dẫn đầy đủ đến tệp\n",
    "    file_path = os.path.join(directory_path, filename)\n",
    "    # Kiểm tra xem tệp có phải là tệp văn bản không\n",
    "    if os.path.isfile(file_path) and filename.endswith('.jsonl'):\n",
    "        # Mở tệp và đọc nội dung\n",
    "        with open(file_path, 'r') as file:\n",
    "            lines = file.readlines()\n",
    "            for line in lines:\n",
    "                # Sử dụng json.loads() để chuyển đổi từng dòng thành đối tượng Python\n",
    "                json_object = json.loads(line)\n",
    "                # Thêm đối tượng vào danh sách data\n",
    "                data.append(json_object)\n"
   ]
  },
  {
   "cell_type": "code",
   "execution_count": 3,
   "metadata": {},
   "outputs": [],
   "source": [
    "from bs4 import BeautifulSoup\n",
    "import re\n",
    "\n",
    "def preprocess(sample):\n",
    "    content_html = sample['content']\n",
    "    soup = BeautifulSoup(content_html, \"lxml\")\n",
    "    for tag in soup.find_all(\"em\"):\n",
    "        tag.unwrap()\n",
    "    for tag in soup.find_all(\"i\"):\n",
    "        tag.unwrap()\n",
    "    for tag in soup.find_all(\"b\"):\n",
    "        tag.unwrap()\n",
    "    for tag in soup.find_all(\"a\"):\n",
    "        tag.unwrap()\n",
    "    for tag in soup.find_all(\"span\"):\n",
    "        tag.unwrap()\n",
    "    for tag in soup.find_all(\"img\"):\n",
    "        tag.unwrap()\n",
    "    soup = BeautifulSoup(str(soup), \"html\")\n",
    "    return soup"
   ]
  },
  {
   "cell_type": "code",
   "execution_count": 10,
   "metadata": {},
   "outputs": [
    {
     "name": "stdout",
     "output_type": "stream",
     "text": [
      "Defaulting to user installation because normal site-packages is not writeable\n",
      "Collecting html2text\n",
      "  Using cached html2text-2020.1.16-py3-none-any.whl (32 kB)\n",
      "Installing collected packages: html2text\n",
      "Successfully installed html2text-2020.1.16\n",
      "Note: you may need to restart the kernel to use updated packages.\n"
     ]
    }
   ],
   "source": [
    "pip install html2text"
   ]
  },
  {
   "cell_type": "code",
   "execution_count": 4,
   "metadata": {},
   "outputs": [],
   "source": [
    "import html2text"
   ]
  },
  {
   "cell_type": "code",
   "execution_count": 5,
   "metadata": {},
   "outputs": [],
   "source": [
    "import html2text\n",
    "\n",
    "def html2md(html_text):\n",
    "  converter = html2text.HTML2Text()\n",
    "  return converter.handle(html_text)"
   ]
  },
  {
   "cell_type": "code",
   "execution_count": 6,
   "metadata": {},
   "outputs": [],
   "source": [
    "results = []\n",
    "count = 0\n",
    "for i in data:\n",
    "\n",
    "    if i['content'] == '':\n",
    "        continue\n",
    "    \n",
    "    html = preprocess(i)\n",
    "    md = html2md(str(html))\n",
    "    results.append({\n",
    "        \"title\": i[\"title\"],\n",
    "        \"url\": i[\"url\"],\n",
    "        \"content\": md\n",
    "    })\n"
   ]
  },
  {
   "cell_type": "code",
   "execution_count": 7,
   "metadata": {},
   "outputs": [
    {
     "data": {
      "text/plain": [
       "85067"
      ]
     },
     "execution_count": 7,
     "metadata": {},
     "output_type": "execute_result"
    }
   ],
   "source": [
    "len(results)"
   ]
  },
  {
   "cell_type": "code",
   "execution_count": 8,
   "metadata": {},
   "outputs": [
    {
     "data": {
      "text/html": [
       "<div>\n",
       "<style scoped>\n",
       "    .dataframe tbody tr th:only-of-type {\n",
       "        vertical-align: middle;\n",
       "    }\n",
       "\n",
       "    .dataframe tbody tr th {\n",
       "        vertical-align: top;\n",
       "    }\n",
       "\n",
       "    .dataframe thead th {\n",
       "        text-align: right;\n",
       "    }\n",
       "</style>\n",
       "<table border=\"1\" class=\"dataframe\">\n",
       "  <thead>\n",
       "    <tr style=\"text-align: right;\">\n",
       "      <th></th>\n",
       "      <th>title</th>\n",
       "      <th>url</th>\n",
       "      <th>content</th>\n",
       "    </tr>\n",
       "  </thead>\n",
       "  <tbody>\n",
       "    <tr>\n",
       "      <th>0</th>\n",
       "      <td>\\r\\n\\tLịch sử hình thành và phát triển Trường ...</td>\n",
       "      <td>https://ukh.edu.vn/vi-vn/tong-quan/tong-quan/v...</td>\n",
       "      <td>**Lịch sử Trường Đại học Khánh Hòa**\\n\\nNgày 0...</td>\n",
       "    </tr>\n",
       "    <tr>\n",
       "      <th>1</th>\n",
       "      <td>\\r\\n\\tSứ mạng, Tầm nhìn và Giá trị cốt lõi\\r\\n</td>\n",
       "      <td>https://ukh.edu.vn/vi-vn/tong-quan/tong-quan/s...</td>\n",
       "      <td>**1\\. Sứ mạng**  \\nTrường Đại học Khánh Hòa là...</td>\n",
       "    </tr>\n",
       "    <tr>\n",
       "      <th>2</th>\n",
       "      <td>\\r\\n\\tChức năng-Nhiệm vụ-Quyền hạn\\r\\n</td>\n",
       "      <td>https://ukh.edu.vn/vi-vn/tong-quan/tong-quan/c...</td>\n",
       "      <td>1\\. Chức năng  \\nTrường Đại học Khánh Hòa có c...</td>\n",
       "    </tr>\n",
       "    <tr>\n",
       "      <th>3</th>\n",
       "      <td>\\r\\n\\tTiểu sử tóm tắt và nhiệm vụ của lãnh đạo...</td>\n",
       "      <td>https://ukh.edu.vn/vi-vn/tong-quan/tong-quan/H...</td>\n",
       "      <td>Họ và tên khai sinh: LÊ THỊ MỸ BÌNH  \\nSinh ng...</td>\n",
       "    </tr>\n",
       "    <tr>\n",
       "      <th>4</th>\n",
       "      <td>\\r\\n\\tMission, Vision and Core Values\\r\\n</td>\n",
       "      <td>https://ukh.edu.vn/en-us1/introduction/overvie...</td>\n",
       "      <td>**1\\. Mission**\\n\\n**** The University of Khan...</td>\n",
       "    </tr>\n",
       "  </tbody>\n",
       "</table>\n",
       "</div>"
      ],
      "text/plain": [
       "                                               title  \\\n",
       "0  \\r\\n\\tLịch sử hình thành và phát triển Trường ...   \n",
       "1     \\r\\n\\tSứ mạng, Tầm nhìn và Giá trị cốt lõi\\r\\n   \n",
       "2             \\r\\n\\tChức năng-Nhiệm vụ-Quyền hạn\\r\\n   \n",
       "3  \\r\\n\\tTiểu sử tóm tắt và nhiệm vụ của lãnh đạo...   \n",
       "4          \\r\\n\\tMission, Vision and Core Values\\r\\n   \n",
       "\n",
       "                                                 url  \\\n",
       "0  https://ukh.edu.vn/vi-vn/tong-quan/tong-quan/v...   \n",
       "1  https://ukh.edu.vn/vi-vn/tong-quan/tong-quan/s...   \n",
       "2  https://ukh.edu.vn/vi-vn/tong-quan/tong-quan/c...   \n",
       "3  https://ukh.edu.vn/vi-vn/tong-quan/tong-quan/H...   \n",
       "4  https://ukh.edu.vn/en-us1/introduction/overvie...   \n",
       "\n",
       "                                             content  \n",
       "0  **Lịch sử Trường Đại học Khánh Hòa**\\n\\nNgày 0...  \n",
       "1  **1\\. Sứ mạng**  \\nTrường Đại học Khánh Hòa là...  \n",
       "2  1\\. Chức năng  \\nTrường Đại học Khánh Hòa có c...  \n",
       "3  Họ và tên khai sinh: LÊ THỊ MỸ BÌNH  \\nSinh ng...  \n",
       "4  **1\\. Mission**\\n\\n**** The University of Khan...  "
      ]
     },
     "execution_count": 8,
     "metadata": {},
     "output_type": "execute_result"
    }
   ],
   "source": [
    "from datasets import Dataset\n",
    "import pandas as pd\n",
    "\n",
    "df = pd.DataFrame(results)\n",
    "df.head()\n"
   ]
  },
  {
   "cell_type": "code",
   "execution_count": null,
   "metadata": {},
   "outputs": [],
   "source": [
    "df.to_json(\"./CHIv1.jsonl\",lines=True,orient='records',force_ascii=False)"
   ]
  },
  {
   "cell_type": "code",
   "execution_count": 9,
   "metadata": {},
   "outputs": [],
   "source": [
    "ds = Dataset.from_pandas(df)"
   ]
  },
  {
   "cell_type": "code",
   "execution_count": 10,
   "metadata": {},
   "outputs": [
    {
     "name": "stderr",
     "output_type": "stream",
     "text": [
      "Widget Javascript not detected.  It may not be installed or enabled properly. Reconnecting the current kernel may help.\n"
     ]
    },
    {
     "data": {
      "application/vnd.jupyter.widget-view+json": {
       "model_id": "33da06d5fb5d4a16b8172ed69191adfd"
      }
     },
     "metadata": {},
     "output_type": "display_data"
    },
    {
     "ename": "AttributeError",
     "evalue": "'FloatProgress' object has no attribute 'style'",
     "output_type": "error",
     "traceback": [
      "\u001b[0;31m---------------------------------------------------------------------------\u001b[0m",
      "\u001b[0;31mAttributeError\u001b[0m                            Traceback (most recent call last)",
      "\u001b[0;32m/tmp/ipykernel_13162/18840353.py\u001b[0m in \u001b[0;36m<module>\u001b[0;34m\u001b[0m\n\u001b[0;32m----> 1\u001b[0;31m \u001b[0mds\u001b[0m\u001b[0;34m.\u001b[0m\u001b[0mpush_to_hub\u001b[0m\u001b[0;34m(\u001b[0m\u001b[0;34m\"nlplabtdtu/TNT-edu\"\u001b[0m\u001b[0;34m)\u001b[0m\u001b[0;34m\u001b[0m\u001b[0;34m\u001b[0m\u001b[0m\n\u001b[0m",
      "\u001b[0;32m~/.local/lib/python3.10/site-packages/datasets/arrow_dataset.py\u001b[0m in \u001b[0;36mpush_to_hub\u001b[0;34m(self, repo_id, split, private, token, branch, max_shard_size, num_shards, embed_external_files)\u001b[0m\n\u001b[1;32m   5394\u001b[0m             )\n\u001b[1;32m   5395\u001b[0m \u001b[0;34m\u001b[0m\u001b[0m\n\u001b[0;32m-> 5396\u001b[0;31m         repo_id, split, uploaded_size, dataset_nbytes, repo_files, deleted_size = self._push_parquet_shards_to_hub(\n\u001b[0m\u001b[1;32m   5397\u001b[0m             \u001b[0mrepo_id\u001b[0m\u001b[0;34m=\u001b[0m\u001b[0mrepo_id\u001b[0m\u001b[0;34m,\u001b[0m\u001b[0;34m\u001b[0m\u001b[0;34m\u001b[0m\u001b[0m\n\u001b[1;32m   5398\u001b[0m             \u001b[0msplit\u001b[0m\u001b[0;34m=\u001b[0m\u001b[0msplit\u001b[0m\u001b[0;34m,\u001b[0m\u001b[0;34m\u001b[0m\u001b[0;34m\u001b[0m\u001b[0m\n",
      "\u001b[0;32m~/.local/lib/python3.10/site-packages/datasets/arrow_dataset.py\u001b[0m in \u001b[0;36m_push_parquet_shards_to_hub\u001b[0;34m(self, repo_id, split, private, token, branch, max_shard_size, num_shards, embed_external_files)\u001b[0m\n\u001b[1;32m   5277\u001b[0m         \u001b[0muploaded_size\u001b[0m \u001b[0;34m=\u001b[0m \u001b[0;36m0\u001b[0m\u001b[0;34m\u001b[0m\u001b[0;34m\u001b[0m\u001b[0m\n\u001b[1;32m   5278\u001b[0m         \u001b[0mshards_path_in_repo\u001b[0m \u001b[0;34m=\u001b[0m \u001b[0;34m[\u001b[0m\u001b[0;34m]\u001b[0m\u001b[0;34m\u001b[0m\u001b[0;34m\u001b[0m\u001b[0m\n\u001b[0;32m-> 5279\u001b[0;31m         for index, shard in logging.tqdm(\n\u001b[0m\u001b[1;32m   5280\u001b[0m             \u001b[0menumerate\u001b[0m\u001b[0;34m(\u001b[0m\u001b[0mitertools\u001b[0m\u001b[0;34m.\u001b[0m\u001b[0mchain\u001b[0m\u001b[0;34m(\u001b[0m\u001b[0;34m[\u001b[0m\u001b[0mfirst_shard\u001b[0m\u001b[0;34m]\u001b[0m\u001b[0;34m,\u001b[0m \u001b[0mshards_iter\u001b[0m\u001b[0;34m)\u001b[0m\u001b[0;34m)\u001b[0m\u001b[0;34m,\u001b[0m\u001b[0;34m\u001b[0m\u001b[0;34m\u001b[0m\u001b[0m\n\u001b[1;32m   5281\u001b[0m             \u001b[0mdesc\u001b[0m\u001b[0;34m=\u001b[0m\u001b[0;34m\"Pushing dataset shards to the dataset hub\"\u001b[0m\u001b[0;34m,\u001b[0m\u001b[0;34m\u001b[0m\u001b[0;34m\u001b[0m\u001b[0m\n",
      "\u001b[0;32m~/.local/lib/python3.10/site-packages/datasets/utils/logging.py\u001b[0m in \u001b[0;36m__call__\u001b[0;34m(self, disable, *args, **kwargs)\u001b[0m\n\u001b[1;32m    204\u001b[0m     \u001b[0;32mdef\u001b[0m \u001b[0m__call__\u001b[0m\u001b[0;34m(\u001b[0m\u001b[0mself\u001b[0m\u001b[0;34m,\u001b[0m \u001b[0;34m*\u001b[0m\u001b[0margs\u001b[0m\u001b[0;34m,\u001b[0m \u001b[0mdisable\u001b[0m\u001b[0;34m=\u001b[0m\u001b[0;32mFalse\u001b[0m\u001b[0;34m,\u001b[0m \u001b[0;34m**\u001b[0m\u001b[0mkwargs\u001b[0m\u001b[0;34m)\u001b[0m\u001b[0;34m:\u001b[0m\u001b[0;34m\u001b[0m\u001b[0;34m\u001b[0m\u001b[0m\n\u001b[1;32m    205\u001b[0m         \u001b[0;32mif\u001b[0m \u001b[0m_tqdm_active\u001b[0m \u001b[0;32mand\u001b[0m \u001b[0;32mnot\u001b[0m \u001b[0mdisable\u001b[0m\u001b[0;34m:\u001b[0m\u001b[0;34m\u001b[0m\u001b[0;34m\u001b[0m\u001b[0m\n\u001b[0;32m--> 206\u001b[0;31m             \u001b[0;32mreturn\u001b[0m \u001b[0mtqdm_lib\u001b[0m\u001b[0;34m.\u001b[0m\u001b[0mtqdm\u001b[0m\u001b[0;34m(\u001b[0m\u001b[0;34m*\u001b[0m\u001b[0margs\u001b[0m\u001b[0;34m,\u001b[0m \u001b[0;34m**\u001b[0m\u001b[0mkwargs\u001b[0m\u001b[0;34m)\u001b[0m\u001b[0;34m\u001b[0m\u001b[0;34m\u001b[0m\u001b[0m\n\u001b[0m\u001b[1;32m    207\u001b[0m         \u001b[0;32melse\u001b[0m\u001b[0;34m:\u001b[0m\u001b[0;34m\u001b[0m\u001b[0;34m\u001b[0m\u001b[0m\n\u001b[1;32m    208\u001b[0m             \u001b[0;32mreturn\u001b[0m \u001b[0mEmptyTqdm\u001b[0m\u001b[0;34m(\u001b[0m\u001b[0;34m*\u001b[0m\u001b[0margs\u001b[0m\u001b[0;34m,\u001b[0m \u001b[0;34m**\u001b[0m\u001b[0mkwargs\u001b[0m\u001b[0;34m)\u001b[0m\u001b[0;34m\u001b[0m\u001b[0;34m\u001b[0m\u001b[0m\n",
      "\u001b[0;32m~/.local/lib/python3.10/site-packages/tqdm/notebook.py\u001b[0m in \u001b[0;36m__init__\u001b[0;34m(self, *args, **kwargs)\u001b[0m\n\u001b[1;32m    243\u001b[0m             \u001b[0mself\u001b[0m\u001b[0;34m.\u001b[0m\u001b[0mdisplayed\u001b[0m \u001b[0;34m=\u001b[0m \u001b[0;32mTrue\u001b[0m\u001b[0;34m\u001b[0m\u001b[0;34m\u001b[0m\u001b[0m\n\u001b[1;32m    244\u001b[0m         \u001b[0mself\u001b[0m\u001b[0;34m.\u001b[0m\u001b[0mdisp\u001b[0m \u001b[0;34m=\u001b[0m \u001b[0mself\u001b[0m\u001b[0;34m.\u001b[0m\u001b[0mdisplay\u001b[0m\u001b[0;34m\u001b[0m\u001b[0;34m\u001b[0m\u001b[0m\n\u001b[0;32m--> 245\u001b[0;31m         \u001b[0mself\u001b[0m\u001b[0;34m.\u001b[0m\u001b[0mcolour\u001b[0m \u001b[0;34m=\u001b[0m \u001b[0mcolour\u001b[0m\u001b[0;34m\u001b[0m\u001b[0;34m\u001b[0m\u001b[0m\n\u001b[0m\u001b[1;32m    246\u001b[0m \u001b[0;34m\u001b[0m\u001b[0m\n\u001b[1;32m    247\u001b[0m         \u001b[0;31m# Print initial bar state\u001b[0m\u001b[0;34m\u001b[0m\u001b[0;34m\u001b[0m\u001b[0m\n",
      "\u001b[0;32m~/.local/lib/python3.10/site-packages/tqdm/notebook.py\u001b[0m in \u001b[0;36mcolour\u001b[0;34m(self, bar_color)\u001b[0m\n\u001b[1;32m    202\u001b[0m     \u001b[0;32mdef\u001b[0m \u001b[0mcolour\u001b[0m\u001b[0;34m(\u001b[0m\u001b[0mself\u001b[0m\u001b[0;34m,\u001b[0m \u001b[0mbar_color\u001b[0m\u001b[0;34m)\u001b[0m\u001b[0;34m:\u001b[0m\u001b[0;34m\u001b[0m\u001b[0;34m\u001b[0m\u001b[0m\n\u001b[1;32m    203\u001b[0m         \u001b[0;32mif\u001b[0m \u001b[0mhasattr\u001b[0m\u001b[0;34m(\u001b[0m\u001b[0mself\u001b[0m\u001b[0;34m,\u001b[0m \u001b[0;34m'container'\u001b[0m\u001b[0;34m)\u001b[0m\u001b[0;34m:\u001b[0m\u001b[0;34m\u001b[0m\u001b[0;34m\u001b[0m\u001b[0m\n\u001b[0;32m--> 204\u001b[0;31m             \u001b[0mself\u001b[0m\u001b[0;34m.\u001b[0m\u001b[0mcontainer\u001b[0m\u001b[0;34m.\u001b[0m\u001b[0mchildren\u001b[0m\u001b[0;34m[\u001b[0m\u001b[0;34m-\u001b[0m\u001b[0;36m2\u001b[0m\u001b[0;34m]\u001b[0m\u001b[0;34m.\u001b[0m\u001b[0mstyle\u001b[0m\u001b[0;34m.\u001b[0m\u001b[0mbar_color\u001b[0m \u001b[0;34m=\u001b[0m \u001b[0mbar_color\u001b[0m\u001b[0;34m\u001b[0m\u001b[0;34m\u001b[0m\u001b[0m\n\u001b[0m\u001b[1;32m    205\u001b[0m \u001b[0;34m\u001b[0m\u001b[0m\n\u001b[1;32m    206\u001b[0m     \u001b[0;32mdef\u001b[0m \u001b[0m__init__\u001b[0m\u001b[0;34m(\u001b[0m\u001b[0mself\u001b[0m\u001b[0;34m,\u001b[0m \u001b[0;34m*\u001b[0m\u001b[0margs\u001b[0m\u001b[0;34m,\u001b[0m \u001b[0;34m**\u001b[0m\u001b[0mkwargs\u001b[0m\u001b[0;34m)\u001b[0m\u001b[0;34m:\u001b[0m\u001b[0;34m\u001b[0m\u001b[0;34m\u001b[0m\u001b[0m\n",
      "\u001b[0;31mAttributeError\u001b[0m: 'FloatProgress' object has no attribute 'style'"
     ]
    }
   ],
   "source": [
    "ds.push_to_hub(\"nlplabtdtu/TNT-edu\")"
   ]
  }
 ],
 "metadata": {
  "kernelspec": {
   "display_name": "Python 3 (ipykernel)",
   "language": "python",
   "name": "python3"
  },
  "language_info": {
   "codemirror_mode": {
    "name": "ipython",
    "version": 3
   },
   "file_extension": ".py",
   "mimetype": "text/x-python",
   "name": "python",
   "nbconvert_exporter": "python",
   "pygments_lexer": "ipython3",
   "version": "3.10.6"
  }
 },
 "nbformat": 4,
 "nbformat_minor": 4
}
