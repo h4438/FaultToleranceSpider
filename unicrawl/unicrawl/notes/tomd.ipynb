{
 "cells": [
  {
   "cell_type": "code",
   "execution_count": 1,
   "id": "14e12537-45e6-4411-a3fa-e1585a2f4ab5",
   "metadata": {},
   "outputs": [
    {
     "data": {
      "text/plain": [
       "(0, 0)"
      ]
     },
     "execution_count": 1,
     "metadata": {},
     "output_type": "execute_result"
    }
   ],
   "source": [
    "import pandas as pd\n",
    "pd.set_option('display.max_colwidth', None)\n",
    "\n",
    "file = \"../chi/html_src.jsonl\"\n",
    "# file = \"../nguyend/ukh.jsonl\"\n",
    "df = pd.read_json(file, lines=True)\n",
    "df.shape"
   ]
  },
  {
   "cell_type": "code",
   "execution_count": 5,
   "id": "2077d9b4-1142-42cc-ae43-31e65b1fe7c6",
   "metadata": {},
   "outputs": [
    {
     "data": {
      "text/plain": [
       "1900"
      ]
     },
     "execution_count": 5,
     "metadata": {},
     "output_type": "execute_result"
    }
   ],
   "source": [
    "lens = df[\"body\"].apply(lambda e: len(e))\n",
    "max(lens)"
   ]
  },
  {
   "cell_type": "code",
   "execution_count": 6,
   "id": "56eaa0d8-a648-44ef-aa98-0ea5fc381999",
   "metadata": {},
   "outputs": [
    {
     "data": {
      "text/html": [
       "<div>\n",
       "<style scoped>\n",
       "    .dataframe tbody tr th:only-of-type {\n",
       "        vertical-align: middle;\n",
       "    }\n",
       "\n",
       "    .dataframe tbody tr th {\n",
       "        vertical-align: top;\n",
       "    }\n",
       "\n",
       "    .dataframe thead th {\n",
       "        text-align: right;\n",
       "    }\n",
       "</style>\n",
       "<table border=\"1\" class=\"dataframe\">\n",
       "  <thead>\n",
       "    <tr style=\"text-align: right;\">\n",
       "      <th></th>\n",
       "      <th>title</th>\n",
       "      <th>body</th>\n",
       "      <th>url</th>\n",
       "    </tr>\n",
       "  </thead>\n",
       "  <tbody>\n",
       "    <tr>\n",
       "      <th>0</th>\n",
       "      <td>Lịch sử hình thành và phát triển</td>\n",
       "      <td>## Lịch sử hình thành và phát triển\\n\\n_Ngày 01/01/2023\\n76,128 lượt xem_\\n\\n!\\n---\\n**Giai đoạn 1961-1975:**\\n\\nTrường Cao cấp nghiệp vụ Ngân hàng được thành lập theo Quyết định số 3072-VG\\nngày 13/9/1961 của Thủ tướng Chính phủ với nhiệm vụ chủ yếu là đào tạo học\\nsinh phổ thông trở thành cán bộ trung cấp ngân hàng, bổ túc cán bộ sơ cấp,\\ntrung cấp nghiệp vụ thành cán bộ có trình độ Cao cấp nghiệp vụ Ngân hàng và\\ntrình độ đại học chuyên tu, tại chức cho đội ngũ cán bộ ngân hàng\\n\\n**Giai đoạn 1976-1992:**\\n\\nTổng Giám đốc Ngân hàng Nhà nước Việt Nam đã ký quyết định số 1229/NH-TCCB\\nngày 16/12/1976 về việc thành lập cơ sở II Trường Cao cấp nghiệp vụ Ngân hàng\\nmở cơ sở hai đặt tại Thành phố Hồ Chí Minh để đào tạo hệ chuyên tu và tại chức\\ncho cán bộ trong ngành ở các tỉnh phía Nam\\n\\nNgày 18/10/1978, Thủ tướng Chính phủ thay mặt Hội đồng Chính phủ ký Quyết định\\nsố 264/CP cho phép Ngân hàng Nhà nước Việt Nam mở hệ cao đẳng trong Trường\\nchuyên tu cao cấp Ngân hàng, bắt đầu từ năm học 1978-1979, để đào tạo cán bộ\\nđại học thực hành Ngân hàng phục vụ yêu cầu xây dựng và phát triển đất nước\\n\\nNgày 03/5/1980, Thủ tướng Chính phủ ký Quyết định số 149/TTg cho phép Ngân\\nhàng Nhà nước Việt Nam mở một lớp Đại học nghiệp vụ Ngân hàng tại Thành phố Hồ\\nChí Minh, để đào tạo cán bộ nghiệp vụ Ngân hàng cho các tỉnh phía Nam\\n\\n**Giai đoạn 1993-1997:**\\n\\nTrung tâm Đào tạo và Nghiên cứu Khoa học Ngân hàng được thành lập theo Quyết\\nđịnh số 112- TTg ngày 23/3/1993 của Thủ tướng Chính phủ trên cơ sở tổ chức lại\\nViện tiền tệ - Tín dụng, Trường Cao cấp nghiệp vụ Ngân hàng Hà Nội, Trường Cao\\ncấp nghiệp vụ Ngân hàng Thành phố Hồ Chí Minh, Trường Trung học Ngân hàng I,\\nTrường Trung học Ngân hàng II, Trường Trung học Ngân hàng III, Trường Trung\\nhọc Ngân hàng IV</td>\n",
       "      <td>https://hvnh.edu.vn/hvnh/vi/gioi-thieu/lich-su-hinh-thanh-va-phat-trien-1144.html</td>\n",
       "    </tr>\n",
       "    <tr>\n",
       "      <th>1</th>\n",
       "      <td>Lịch sử hình thành và phát triển</td>\n",
       "      <td>định số 143-TTg giao nhiệm vụ\\nđào tạo trên đại học cho Viện Khoa học Ngân hàng (Ngân hàng Nhà nước)\\n\\nNgày 8/3/1996, Thủ tướng Chính phủ đã ký Quyết định số 143-TTg giao nhiệm vụ\\nđào tạo trên đại học cho Viện Khoa học Ngân hàng (Ngân hàng Nhà nước)\\n\\n**Giai đoạn từ 1998 đến nay:**\\n\\nHọc viện Ngân hàng (HVNH) được thành lập theo Quyết định số 30/1998/QĐ-TTg\\nngày 09/02/1998 của Thủ tướng Chính phủ trên cơ sở tổ chức lại Trung tâm Đào\\ntạo và Nghiên cứu khoa học Ngân hàng. Theo đó, HVNH là tổ chức đào tạo và\\nNghiên cứu khoa học của Nhà nước về lĩnh vực ngân hàng. HVNH có nhiệm vụ: i)\\nĐào tạo cán bộ ở bậc giáo dục chuyên nghiệp, bậc đại học và trên đại học về\\nlĩnh vực tiền tệ - tín dụng và ngân hàng; ii) Bồi dưỡng nghiệp vụ và công nghệ\\nngân hàng; iii) Tổ chức nghiên cứu khoa học và công nghệ ngân hàng; iv) Thực\\nhiện hợp tác về đào tạo và nghiên cứu khoa học ngân hàng với các tổ chức trong\\nvà ngoài nước theo quy định chung của Nhà nước ( _Phân viện thành phố Hồ Chí\\nMinh thuộc Học viện Ngân hàng được Thủ tướng Chính phủ quyết định thành lập\\nTrường Đại học Ngân hàng thành phố Hồ Chí Minh theo Quyết định số 174/2003/QĐ-\\nTTg ngày 20/8/2003_ )\\n\\nNgày 24/03/1998, Thống đốc Ngân hàng Nhà nước (NHNN) đã ký ban hành Quyết định\\nsố 107/1998/QĐ-NHNN9 quy định Quy chế tổ chức và hoạt động của HVNH đã quy\\nđịnh HVNH là đơn vị sự nghiệp có tư cách pháp nhân, có tài khoản và con dấu\\nriêng, có trụ sở đặt tại thành phố Hà Nội và các cơ sở tại Thành phố Hồ Chí\\nMinh, các tỉnh Phú yên, Bắc Ninh, Hà Tây. Học viện chịu sự lãnh đạo và quản lý\\ntrực tiếp của NHNN theo chức năng của Bộ Giáo dục và Đào tạo, Bộ Khoa - Công\\nnghệ và môi trường, các bộ, ngành khác có liên quan; đồng thời chịu sự quản lý\\ntheo lãnh thổ của chính quyền địa phương nơi có cơ sở của Học viện</td>\n",
       "      <td>https://hvnh.edu.vn/hvnh/vi/gioi-thieu/lich-su-hinh-thanh-va-phat-trien-1144.html</td>\n",
       "    </tr>\n",
       "    <tr>\n",
       "      <th>2</th>\n",
       "      <td>Lịch sử hình thành và phát triển</td>\n",
       "      <td>lãnh thổ của chính quyền địa phương nơi có cơ\\nsở của Học viện theo các quy định của pháp luật\\n\\nNgày 12 /01/2004 Thống đốc NHNN đã ký ban hành Quyết định số 48/2004/QĐ-NHNN\\nthay thế Quyết định số 107/1998/QĐ-NHNN9, HVNH là đơn vị sự nghiệp có tư cách\\npháp nhân, có tài khoản và con dấu riêng, có trụ sở chính tại thành phố Hà Nội\\nvà các Phân viện Bắc Ninh, Phú Yên; HVNH chịu sự lãnh đạo và quản lý trực tiếp\\ncủa NHNN; chịu sự quản lý nhà nước về giáo dục của Bộ Giáo dục và Đào tạo;\\nchịu sự quản lý nhà nước thuộc thẩm quyền của các Bộ, Ngành khác có liên quan;\\nchịu sự quản lý hành chính theo lãnh thổ của chính quyền địa phương nơi có cơ\\nsở của Học viện theo các quy định của pháp luật\\n\\nNgày 29/4/2009, Thống đốc NHNH đã ký ban hành Quyết định số 1009/QĐ-NHNN quy\\nđịnh chức năng, nhiệm vụ, quyền hạn và cơ cấu tổ chức của HVNH thay thế Quyết\\nđịnh số 48/2004/QĐ-NHNN\\n\\nNgày 16/3/2012, Thống đốc NHNN đã ký ban hành Quyết định số 433/QĐ-NHNN về\\nviệc quy định chức năng, nhiệm vụ, quyền hạn và mô hình tổ chức, cơ cấu của\\nHVNH thay thế Quyết định số 1009/QĐ-NHNN ngày 29/4/2009\\n\\nNgày 26/02/2014, Thống đốc NHNN đã ký ban hành Quyết định số 327/QĐ-NHNN về\\nviệc quy định chức năng, nhiệm vụ, quyền hạn và mô hình tổ chức, cơ cấu của\\nHVNH thay thế Quyết định số 433/QĐ-NHNN nhằm kiện toàn bộ máy tổ chức và hoạt\\nđộng của HVNH cho phù hợp điều kiện phát triển kinh tế trong tình hình mới\\n\\nNgày 20/7/2017, Thống đốc NHNN đã ký ban hành Quyết định số 1518/QĐ-NHNN về\\nviệc quy định chức năng, nhiệm vụ, quyền hạn và cơ cấu tổ chức của HVNH thay\\nthế Quyết định số 327/QĐ-NHNN ngày 26/02/2014 nhằm kiện toàn bộ máy tổ chức và\\nhoạt động của HVNH cho phù hợp điều kiện phát triển kinh tế trong điều kiện\\nhội nhập</td>\n",
       "      <td>https://hvnh.edu.vn/hvnh/vi/gioi-thieu/lich-su-hinh-thanh-va-phat-trien-1144.html</td>\n",
       "    </tr>\n",
       "    <tr>\n",
       "      <th>3</th>\n",
       "      <td>Lịch sử hình thành và phát triển</td>\n",
       "      <td>và quyết định bổ nhiệm PGS.TS. Đào Minh Phúc giữ\\nchức vụ Chủ tịch Hội đồng Học viện nhiệm kỳ 2020-2025\\n\\nNgày 27/05/2020, Thống đốc NHNN đã ký ban hành Quyết định số 997/QĐ-NHNN về\\nviệc quyết định công nhận Hội đồng trường Học viện Ngân hàng nhiệm kỳ\\n2020-2025 gồm 17 thành viên và quyết định bổ nhiệm PGS.TS. Đào Minh Phúc giữ\\nchức vụ Chủ tịch Hội đồng Học viện nhiệm kỳ 2020-2025\\n\\nNgày 30/12/2021, Thống đốc NHNN đã ký ban hành Quyết định số 2090/QĐ-NHNN về\\nviệc quyết định công nhận TS. Bùi Hữu Toàn giữ chức vụ Chủ tịch Hội đồng HVNH\\nnhiệm kỳ 2020-2025\\n\\nTrong suốt quá trình xây dựng và trưởng thành, HVNH đã phát triển không ngừng\\nTừ một cơ sở đào tạo chuyên về lĩnh vực tài chính ngân hàng đến nay HVNH đã mở\\nrộng đào tạo theo hướng đa ngành. Trình độ và tính chuyên nghiệp của đội ngũ\\ngiảng viên ngày càng được nâng cao. Sinh viên tốt nghiệp đáp ứng tốt các yêu\\ncầu của nhà tuyển dụng và xã hội, góp phần khẳng định vị thế của HVNH là một\\ntrong những cơ sở đào tạo về kinh tế hàng đầu của Việt Nam. Những năm gần đây\\nHVNH phát triển mạnh các hoạt động hợp tác đào tạo hợp tác quốc tế thông qua\\ncác chương trình trao đổi giảng viên, sinh viên, liên kết đào tạo với nhiều\\ntrường đại học có uy tín trên thế giới. Các hoạt động nghiên cứu khoa học, tư\\nvấn chính sách và chuyển giao công nghệ của HVNH đã tạo động lực thúc đầy nâng\\ncao chất lượng đào tạo và đóng góp có hiệu quả cho nền kinh tế\\n\\nVới những đóng góp to lớn vào sự nghiệp giáo dục đào tạo, HVNH đã được Đảng và\\nNhà nước, ghi nhận và trao tặng nhiều phần thưởng, danh hiệu cao quý:\\n\\n\\- Huân chương Lao động Hạng Nhất, Hạng Nhì, Hạng Ba; Huân chương Độc lập Hạng\\nNhất, Hạng Nhì, Hạng Ba cho Học viện Ngân hàng</td>\n",
       "      <td>https://hvnh.edu.vn/hvnh/vi/gioi-thieu/lich-su-hinh-thanh-va-phat-trien-1144.html</td>\n",
       "    </tr>\n",
       "    <tr>\n",
       "      <th>4</th>\n",
       "      <td>Lịch sử hình thành và phát triển</td>\n",
       "      <td>hạng cho các cán bộ lãnh đạo, quản lý và giảng\\nviên của Học viện qua các thời kỳ công tác\\n\\n\\- Huân chương Lao động Hạng Hạng Nhất, Hạng Nhì cho Phân viện Bắc Ninh\\n\\n\\- Huân chương Lao động Hạng Hạng Nhì, Hạng Ba cho Phân viện Phú Yên\\n\\n\\- Huân chương Lao động Hạng Nhì cho Cơ sỏ đào tạo Sơn Tây\\n\\n\\- 18 Huân chương Lao động các hạng cho các cán bộ lãnh đạo, quản lý và giảng\\nviên của Học viện qua các thời kỳ công tác\\n\\nNgoài ra, Nhà nước nước CHDCND Lào cũng đã trao tặng: Huân chương Ixala (Huân\\nchương Độc lập) Hạng Nhất cho Học viện Ngân hàng; Huân chương Ixala Hạng Nhất\\ncho CSĐT Sơn Tây; Huân chương Ixala các hạng cho hơn 100 cán bộ lãnh đạo, quản\\nlý và giảng viên của HVNH qua các thời kỳ công tác.</td>\n",
       "      <td>https://hvnh.edu.vn/hvnh/vi/gioi-thieu/lich-su-hinh-thanh-va-phat-trien-1144.html</td>\n",
       "    </tr>\n",
       "    <tr>\n",
       "      <th>5</th>\n",
       "      <td>Banking Academy Of Vietnam</td>\n",
       "      <td>Chia sẻ:\\n ](https://www.facebook.com/sharer/sharer.php?u=http://en.hvnh.edu.vn/hvnhta/en/news/the-\\nhandover-and-inauguration-ceremony-of-bav-mb-digital-hub-in-banking-academy-\\nof-vietnam-437.html \"Chia sẻ facebook\")\\n ](https://twitter.com/share?url=http://en.hvnh.edu.vn/hvnhta/en/news/the-\\nhandover-and-inauguration-ceremony-of-bav-mb-digital-hub-in-banking-academy-\\nof-vietnam-437.html \"Chia sẻ twitter\")\\n \\n \\n\\n* * *\\n\\n### The Handover and Inauguration Ceremony of BAV – MB Digital Hub in Banking\\nAcademy of Vietnam\\n\\n_Date: 20/12/2021_\\n\\nOn November 18th, 2021, at the Banking Academy of Vietnam, the Handover and\\nInauguration Ceremony of Digital Creative Space (BAV - MB Digital Hub) was\\ntaken place according to the cooperation agreement signed between the Banking\\nAcademy of Vietnam (BAV) and the Military Commercial Joint Stock Bank (MB)\\n\\nAttending the ceremony, the representative of MB included Mr. Luu Trung Thai,\\nVice Chairman of the Board of Directors and General Director (General\\nDirector); Ms. Tran Thi Bao Que and Mr. Vu Thanh Trung, Member of the Board of\\nManagement; Mr. Chu Hai Cong, Chief of Office of the CEO; Ms. Dang Minh Huyen,\\nDirector of Human Resources; and Mr. Nguyen Viet Chau, Director of Innovation\\nLab\\n\\nOn the side of BAV, there was Assoc.Prof.Dr. Do Thi Kim Hao – Vice President\\nin charge of the President of BAV, Assoc.Prof.Dr. Le Van Luyen, Assoc.Prof.Dr\\nMai Thanh Que – Vice President and several leaders of departments in BAV</td>\n",
       "      <td>http://en.hvnh.edu.vn/hvnhta/en/news/the-handover-and-inauguration-ceremony-of-bav-mb-digital-hub-in-banking-academy-of-vietnam-437.html</td>\n",
       "    </tr>\n",
       "    <tr>\n",
       "      <th>6</th>\n",
       "      <td>Banking Academy Of Vietnam</td>\n",
       "      <td>have many opportunities to\\napply knowledge from theory to practice and contribute to perfecting \"Digital\\nCompetency\" according to BAV’s students' output standards\\n\\nAt the Ceremony, Assoc.Prof.Dr. Do Thi Kim Hao – Vice President in charge of\\nthe President of BAV, said that one of the new points in the training programs\\nin BAV is to develop digital competence for students in all subjects. In\\nparticular, BAV - MB Digital Hub plays a highly important role as a great\\nsource of inspiration and motivation for BAV to reach these goals. Moreover,\\nit might also create conditions for students to have many opportunities to\\napply knowledge from theory to practice and contribute to perfecting \"Digital\\nCompetency\" according to BAV’s students' output standards\\n\\nMr. Luu Trung Thai - Vice Chairman of the Board of Directors, General Director\\nof MB, emphasized that the banking industry is entering a new phase, marking\\nthe intersection between the financial industry and digital transformation. In\\nthat process, human resources are big problems that many banks face when they\\ncannot meet the increasing demands of the current market. If BAV’s students\\nhave equipped knowledge and practical experiences right at campus thanks to\\nBAV-MB Digital Hub, they might help banks solve these problems\\n\\nBAV - MB Digital Hub is designed with high technology content and is\\nconvenient for users. At Hub, digital banking software and services are\\nsimulated intuitively, helping the lecturers design more vivid lessons and\\nstudents access the banking products development process in intuitive and\\neasy-to-understand ways</td>\n",
       "      <td>http://en.hvnh.edu.vn/hvnhta/en/news/the-handover-and-inauguration-ceremony-of-bav-mb-digital-hub-in-banking-academy-of-vietnam-437.html</td>\n",
       "    </tr>\n",
       "    <tr>\n",
       "      <th>7</th>\n",
       "      <td>Banking Academy Of Vietnam</td>\n",
       "      <td>how digital banking works, thereby meeting\\nthe increasing requirements of the human resource market, especially of a\\nmulti-industry financial group as MB\\n\\nExperiencing BAV-MB Digital Hub right on BAV’s campus might be the opportunity\\nfor students to understand better how digital banking works, thereby meeting\\nthe increasing requirements of the human resource market, especially of a\\nmulti-industry financial group as MB\\n\\nIn addition, MB cooperates with BAV to build two new subjects (i.e., Fintech\\nand Applied Personal Finance) and provides case studies and financial games\\nfor BAV’s training programs to create more effective interactions in teaching\\nand helping students understand more deeply about the current digital banking\\nsystem in Vietnam\\n\\n(Source: https://www.hvnh.edu.vn)\\n\\nCommunication Office-BAV</td>\n",
       "      <td>http://en.hvnh.edu.vn/hvnhta/en/news/the-handover-and-inauguration-ceremony-of-bav-mb-digital-hub-in-banking-academy-of-vietnam-437.html</td>\n",
       "    </tr>\n",
       "    <tr>\n",
       "      <th>8</th>\n",
       "      <td>Lãnh đạo Học viện Ngân hàng qua các thời kỳ</td>\n",
       "      <td>## Lãnh đạo Học viện qua các thời kỳ\\n\\n_Ngày 01/06/2023.\\n18,396 lượt xem_\\n\\n**LÃNH ĐẠO HỌC VIỆN NGÂN HÀNG QUA CÁC THỜI KỲ**\\n\\n**1961 - 1965**\\n\\n|\\n\\n**Đồng chí Dương Văn Lan - Hiệu trưởng Trường Cao cấp Nghiệp vụ Ngân hàng**.\\n---|---.\\n**1965 - 1967**\\n\\n|\\n\\n**Đồng chí Vũ Thế Chi - Q. Hiệu trưởng Trường Cao cấp Nghiệp vụ Ngân hàng**.\\n**1967 - 1969**\\n\\n|\\n\\n**Đồng chí Phạm Nghiêm - Hiệu trưởng trường Cao cấp Nghiệp vụ Ngân hàng**.\\n**1969 - 1973**\\n\\n|\\n\\n**Đồng chí Hoàng Đức Hanh - Hiệu trưởng Trường Cao cấp Nghiệp vụ Ngân hàng**.\\n**1973 - 1977**\\n\\n|\\n\\n**Đồng chí Đặng Đình Nhuần - Q. Hiệu trưởng Trường Cao cấp Nghiệp vụ Ngân\\nhàng**.\\n**1977 - 1979**\\n\\n|\\n\\n**Đồng chí Lê Lộc - Hiệu trưởng Trường Cao cấp Nghiệp vụ Ngân hàng**.\\n**1979 - 1983**\\n\\n|\\n\\n**Đồng chí Phạm Ký Tế - Q.Hiệu trưởng Trường Cao cấp Nghiệp vụ Ngân hàng**.\\n**1983 - 1987**\\n\\n|\\n\\n**Đồng chí Hoàng Mạnh Quân - Hiệu trưởng Trường Cao cấp Nghiệp vụ Ngân hàng**.\\n**1987 - 1997**\\n\\n|\\n\\n**Đồng chí Nguyễn Hữu Phùng - Giám đốc Trung tâm Đào tạo và NCKH Ngân hàng**.\\n**1997 - 2004**\\n\\n|\\n\\n**Đồng chí Nguyễn Duệ - Giám đốc Học viện Ngân hàng**.\\n**2004 - 2015**\\n\\n|\\n\\n**Đồng chí Tô Ngọc Hưng - Giám đốc Học viện Ngân hàng**.\\n**2016 - 2020**\\n\\n|\\n\\n**Đồng chí Bùi Tín Nghị - Giám đốc Học viện Ngân hàng**.\\n**6/2020 đến 10/2021**\\n\\n|\\n\\n**Đồng chí Đào Minh Phúc - Chủ tịch Hội đồng Học viện**.\\n**8/2020 đến 5/2023**\\n\\n|\\n\\n**Đồng chí Đỗ Thị Kim Hảo - Phó Giám đốc Phụ trách Ban Giám đốc Học viện**.\\n**12/2021 đến nay**\\n\\n|\\n\\n**Đồng chí Bùi Hữu Toàn - Chủ tịch Hội đồng Học viện**.\\n**6/2023 đến nay**\\n\\n|\\n\\n**Đồng chí Mai Thanh Quế - Phó Giám đốc Phụ trách Ban Giám đốc Học viện**</td>\n",
       "      <td>https://hvnh.edu.vn/hvnh/vi/gioi-thieu/lanh-dao-hoc-vien-qua-cac-thoi-ky-1143.html</td>\n",
       "    </tr>\n",
       "    <tr>\n",
       "      <th>9</th>\n",
       "      <td>Lời chào mừng của Giám đốc</td>\n",
       "      <td>## Lời chào mừng của Giám đốc Học viện Ngân hàng\\n\\n_Ngày 01/06/2023\\n28,410 lượt xem_\\n\\n! \\n\\n_**PGS.TS. Mai Thanh Quế**_\\n\\n_**Phó Giám đốc Phụ trách Ban Giám đốc Học viện Ngân hàng**_\\n---</td>\n",
       "      <td>https://hvnh.edu.vn/hvnh/vi/gioi-thieu/loi-chao-mung-cua-giam-doc-hoc-vien-ngan-hang-77.html</td>\n",
       "    </tr>\n",
       "  </tbody>\n",
       "</table>\n",
       "</div>"
      ],
      "text/plain": [
       "                                         title  \\\n",
       "0             Lịch sử hình thành và phát triển   \n",
       "1             Lịch sử hình thành và phát triển   \n",
       "2             Lịch sử hình thành và phát triển   \n",
       "3             Lịch sử hình thành và phát triển   \n",
       "4             Lịch sử hình thành và phát triển   \n",
       "5                   Banking Academy Of Vietnam   \n",
       "6                   Banking Academy Of Vietnam   \n",
       "7                   Banking Academy Of Vietnam   \n",
       "8  Lãnh đạo Học viện Ngân hàng qua các thời kỳ   \n",
       "9                   Lời chào mừng của Giám đốc   \n",
       "\n",
       "                                                                                                                                                                                                                                                                                                                                                                                                                                                                                                                                                                                                                                                                                                                                                                                                                                                                                                                                                                                                                                                                                                                                                                                                                                                                                                                                                                                                                                                                                                                                                                                                                                                                                                                                                                                                                                                        body  \\\n",
       "0          ## Lịch sử hình thành và phát triển\\n\\n_Ngày 01/01/2023\\n76,128 lượt xem_\\n\\n!\\n---\\n**Giai đoạn 1961-1975:**\\n\\nTrường Cao cấp nghiệp vụ Ngân hàng được thành lập theo Quyết định số 3072-VG\\nngày 13/9/1961 của Thủ tướng Chính phủ với nhiệm vụ chủ yếu là đào tạo học\\nsinh phổ thông trở thành cán bộ trung cấp ngân hàng, bổ túc cán bộ sơ cấp,\\ntrung cấp nghiệp vụ thành cán bộ có trình độ Cao cấp nghiệp vụ Ngân hàng và\\ntrình độ đại học chuyên tu, tại chức cho đội ngũ cán bộ ngân hàng\\n\\n**Giai đoạn 1976-1992:**\\n\\nTổng Giám đốc Ngân hàng Nhà nước Việt Nam đã ký quyết định số 1229/NH-TCCB\\nngày 16/12/1976 về việc thành lập cơ sở II Trường Cao cấp nghiệp vụ Ngân hàng\\nmở cơ sở hai đặt tại Thành phố Hồ Chí Minh để đào tạo hệ chuyên tu và tại chức\\ncho cán bộ trong ngành ở các tỉnh phía Nam\\n\\nNgày 18/10/1978, Thủ tướng Chính phủ thay mặt Hội đồng Chính phủ ký Quyết định\\nsố 264/CP cho phép Ngân hàng Nhà nước Việt Nam mở hệ cao đẳng trong Trường\\nchuyên tu cao cấp Ngân hàng, bắt đầu từ năm học 1978-1979, để đào tạo cán bộ\\nđại học thực hành Ngân hàng phục vụ yêu cầu xây dựng và phát triển đất nước\\n\\nNgày 03/5/1980, Thủ tướng Chính phủ ký Quyết định số 149/TTg cho phép Ngân\\nhàng Nhà nước Việt Nam mở một lớp Đại học nghiệp vụ Ngân hàng tại Thành phố Hồ\\nChí Minh, để đào tạo cán bộ nghiệp vụ Ngân hàng cho các tỉnh phía Nam\\n\\n**Giai đoạn 1993-1997:**\\n\\nTrung tâm Đào tạo và Nghiên cứu Khoa học Ngân hàng được thành lập theo Quyết\\nđịnh số 112- TTg ngày 23/3/1993 của Thủ tướng Chính phủ trên cơ sở tổ chức lại\\nViện tiền tệ - Tín dụng, Trường Cao cấp nghiệp vụ Ngân hàng Hà Nội, Trường Cao\\ncấp nghiệp vụ Ngân hàng Thành phố Hồ Chí Minh, Trường Trung học Ngân hàng I,\\nTrường Trung học Ngân hàng II, Trường Trung học Ngân hàng III, Trường Trung\\nhọc Ngân hàng IV   \n",
       "1  định số 143-TTg giao nhiệm vụ\\nđào tạo trên đại học cho Viện Khoa học Ngân hàng (Ngân hàng Nhà nước)\\n\\nNgày 8/3/1996, Thủ tướng Chính phủ đã ký Quyết định số 143-TTg giao nhiệm vụ\\nđào tạo trên đại học cho Viện Khoa học Ngân hàng (Ngân hàng Nhà nước)\\n\\n**Giai đoạn từ 1998 đến nay:**\\n\\nHọc viện Ngân hàng (HVNH) được thành lập theo Quyết định số 30/1998/QĐ-TTg\\nngày 09/02/1998 của Thủ tướng Chính phủ trên cơ sở tổ chức lại Trung tâm Đào\\ntạo và Nghiên cứu khoa học Ngân hàng. Theo đó, HVNH là tổ chức đào tạo và\\nNghiên cứu khoa học của Nhà nước về lĩnh vực ngân hàng. HVNH có nhiệm vụ: i)\\nĐào tạo cán bộ ở bậc giáo dục chuyên nghiệp, bậc đại học và trên đại học về\\nlĩnh vực tiền tệ - tín dụng và ngân hàng; ii) Bồi dưỡng nghiệp vụ và công nghệ\\nngân hàng; iii) Tổ chức nghiên cứu khoa học và công nghệ ngân hàng; iv) Thực\\nhiện hợp tác về đào tạo và nghiên cứu khoa học ngân hàng với các tổ chức trong\\nvà ngoài nước theo quy định chung của Nhà nước ( _Phân viện thành phố Hồ Chí\\nMinh thuộc Học viện Ngân hàng được Thủ tướng Chính phủ quyết định thành lập\\nTrường Đại học Ngân hàng thành phố Hồ Chí Minh theo Quyết định số 174/2003/QĐ-\\nTTg ngày 20/8/2003_ )\\n\\nNgày 24/03/1998, Thống đốc Ngân hàng Nhà nước (NHNN) đã ký ban hành Quyết định\\nsố 107/1998/QĐ-NHNN9 quy định Quy chế tổ chức và hoạt động của HVNH đã quy\\nđịnh HVNH là đơn vị sự nghiệp có tư cách pháp nhân, có tài khoản và con dấu\\nriêng, có trụ sở đặt tại thành phố Hà Nội và các cơ sở tại Thành phố Hồ Chí\\nMinh, các tỉnh Phú yên, Bắc Ninh, Hà Tây. Học viện chịu sự lãnh đạo và quản lý\\ntrực tiếp của NHNN theo chức năng của Bộ Giáo dục và Đào tạo, Bộ Khoa - Công\\nnghệ và môi trường, các bộ, ngành khác có liên quan; đồng thời chịu sự quản lý\\ntheo lãnh thổ của chính quyền địa phương nơi có cơ sở của Học viện   \n",
       "2                                                           lãnh thổ của chính quyền địa phương nơi có cơ\\nsở của Học viện theo các quy định của pháp luật\\n\\nNgày 12 /01/2004 Thống đốc NHNN đã ký ban hành Quyết định số 48/2004/QĐ-NHNN\\nthay thế Quyết định số 107/1998/QĐ-NHNN9, HVNH là đơn vị sự nghiệp có tư cách\\npháp nhân, có tài khoản và con dấu riêng, có trụ sở chính tại thành phố Hà Nội\\nvà các Phân viện Bắc Ninh, Phú Yên; HVNH chịu sự lãnh đạo và quản lý trực tiếp\\ncủa NHNN; chịu sự quản lý nhà nước về giáo dục của Bộ Giáo dục và Đào tạo;\\nchịu sự quản lý nhà nước thuộc thẩm quyền của các Bộ, Ngành khác có liên quan;\\nchịu sự quản lý hành chính theo lãnh thổ của chính quyền địa phương nơi có cơ\\nsở của Học viện theo các quy định của pháp luật\\n\\nNgày 29/4/2009, Thống đốc NHNH đã ký ban hành Quyết định số 1009/QĐ-NHNN quy\\nđịnh chức năng, nhiệm vụ, quyền hạn và cơ cấu tổ chức của HVNH thay thế Quyết\\nđịnh số 48/2004/QĐ-NHNN\\n\\nNgày 16/3/2012, Thống đốc NHNN đã ký ban hành Quyết định số 433/QĐ-NHNN về\\nviệc quy định chức năng, nhiệm vụ, quyền hạn và mô hình tổ chức, cơ cấu của\\nHVNH thay thế Quyết định số 1009/QĐ-NHNN ngày 29/4/2009\\n\\nNgày 26/02/2014, Thống đốc NHNN đã ký ban hành Quyết định số 327/QĐ-NHNN về\\nviệc quy định chức năng, nhiệm vụ, quyền hạn và mô hình tổ chức, cơ cấu của\\nHVNH thay thế Quyết định số 433/QĐ-NHNN nhằm kiện toàn bộ máy tổ chức và hoạt\\nđộng của HVNH cho phù hợp điều kiện phát triển kinh tế trong tình hình mới\\n\\nNgày 20/7/2017, Thống đốc NHNN đã ký ban hành Quyết định số 1518/QĐ-NHNN về\\nviệc quy định chức năng, nhiệm vụ, quyền hạn và cơ cấu tổ chức của HVNH thay\\nthế Quyết định số 327/QĐ-NHNN ngày 26/02/2014 nhằm kiện toàn bộ máy tổ chức và\\nhoạt động của HVNH cho phù hợp điều kiện phát triển kinh tế trong điều kiện\\nhội nhập   \n",
       "3                                                                                       và quyết định bổ nhiệm PGS.TS. Đào Minh Phúc giữ\\nchức vụ Chủ tịch Hội đồng Học viện nhiệm kỳ 2020-2025\\n\\nNgày 27/05/2020, Thống đốc NHNN đã ký ban hành Quyết định số 997/QĐ-NHNN về\\nviệc quyết định công nhận Hội đồng trường Học viện Ngân hàng nhiệm kỳ\\n2020-2025 gồm 17 thành viên và quyết định bổ nhiệm PGS.TS. Đào Minh Phúc giữ\\nchức vụ Chủ tịch Hội đồng Học viện nhiệm kỳ 2020-2025\\n\\nNgày 30/12/2021, Thống đốc NHNN đã ký ban hành Quyết định số 2090/QĐ-NHNN về\\nviệc quyết định công nhận TS. Bùi Hữu Toàn giữ chức vụ Chủ tịch Hội đồng HVNH\\nnhiệm kỳ 2020-2025\\n\\nTrong suốt quá trình xây dựng và trưởng thành, HVNH đã phát triển không ngừng\\nTừ một cơ sở đào tạo chuyên về lĩnh vực tài chính ngân hàng đến nay HVNH đã mở\\nrộng đào tạo theo hướng đa ngành. Trình độ và tính chuyên nghiệp của đội ngũ\\ngiảng viên ngày càng được nâng cao. Sinh viên tốt nghiệp đáp ứng tốt các yêu\\ncầu của nhà tuyển dụng và xã hội, góp phần khẳng định vị thế của HVNH là một\\ntrong những cơ sở đào tạo về kinh tế hàng đầu của Việt Nam. Những năm gần đây\\nHVNH phát triển mạnh các hoạt động hợp tác đào tạo hợp tác quốc tế thông qua\\ncác chương trình trao đổi giảng viên, sinh viên, liên kết đào tạo với nhiều\\ntrường đại học có uy tín trên thế giới. Các hoạt động nghiên cứu khoa học, tư\\nvấn chính sách và chuyển giao công nghệ của HVNH đã tạo động lực thúc đầy nâng\\ncao chất lượng đào tạo và đóng góp có hiệu quả cho nền kinh tế\\n\\nVới những đóng góp to lớn vào sự nghiệp giáo dục đào tạo, HVNH đã được Đảng và\\nNhà nước, ghi nhận và trao tặng nhiều phần thưởng, danh hiệu cao quý:\\n\\n\\- Huân chương Lao động Hạng Nhất, Hạng Nhì, Hạng Ba; Huân chương Độc lập Hạng\\nNhất, Hạng Nhì, Hạng Ba cho Học viện Ngân hàng   \n",
       "4                                                                                                                                                                                                                                                                                                                                                                                                                                                                                                                                                                                                                                                                                                                                                                                                                                                                                                                                                                                                                                                                                                              hạng cho các cán bộ lãnh đạo, quản lý và giảng\\nviên của Học viện qua các thời kỳ công tác\\n\\n\\- Huân chương Lao động Hạng Hạng Nhất, Hạng Nhì cho Phân viện Bắc Ninh\\n\\n\\- Huân chương Lao động Hạng Hạng Nhì, Hạng Ba cho Phân viện Phú Yên\\n\\n\\- Huân chương Lao động Hạng Nhì cho Cơ sỏ đào tạo Sơn Tây\\n\\n\\- 18 Huân chương Lao động các hạng cho các cán bộ lãnh đạo, quản lý và giảng\\nviên của Học viện qua các thời kỳ công tác\\n\\nNgoài ra, Nhà nước nước CHDCND Lào cũng đã trao tặng: Huân chương Ixala (Huân\\nchương Độc lập) Hạng Nhất cho Học viện Ngân hàng; Huân chương Ixala Hạng Nhất\\ncho CSĐT Sơn Tây; Huân chương Ixala các hạng cho hơn 100 cán bộ lãnh đạo, quản\\nlý và giảng viên của HVNH qua các thời kỳ công tác.   \n",
       "5                                                                                                                                                                                                                                                                                                          Chia sẻ:\\n ](https://www.facebook.com/sharer/sharer.php?u=http://en.hvnh.edu.vn/hvnhta/en/news/the-\\nhandover-and-inauguration-ceremony-of-bav-mb-digital-hub-in-banking-academy-\\nof-vietnam-437.html \"Chia sẻ facebook\")\\n ](https://twitter.com/share?url=http://en.hvnh.edu.vn/hvnhta/en/news/the-\\nhandover-and-inauguration-ceremony-of-bav-mb-digital-hub-in-banking-academy-\\nof-vietnam-437.html \"Chia sẻ twitter\")\\n \\n \\n\\n* * *\\n\\n### The Handover and Inauguration Ceremony of BAV – MB Digital Hub in Banking\\nAcademy of Vietnam\\n\\n_Date: 20/12/2021_\\n\\nOn November 18th, 2021, at the Banking Academy of Vietnam, the Handover and\\nInauguration Ceremony of Digital Creative Space (BAV - MB Digital Hub) was\\ntaken place according to the cooperation agreement signed between the Banking\\nAcademy of Vietnam (BAV) and the Military Commercial Joint Stock Bank (MB)\\n\\nAttending the ceremony, the representative of MB included Mr. Luu Trung Thai,\\nVice Chairman of the Board of Directors and General Director (General\\nDirector); Ms. Tran Thi Bao Que and Mr. Vu Thanh Trung, Member of the Board of\\nManagement; Mr. Chu Hai Cong, Chief of Office of the CEO; Ms. Dang Minh Huyen,\\nDirector of Human Resources; and Mr. Nguyen Viet Chau, Director of Innovation\\nLab\\n\\nOn the side of BAV, there was Assoc.Prof.Dr. Do Thi Kim Hao – Vice President\\nin charge of the President of BAV, Assoc.Prof.Dr. Le Van Luyen, Assoc.Prof.Dr\\nMai Thanh Que – Vice President and several leaders of departments in BAV   \n",
       "6                                                                                                                                                                    have many opportunities to\\napply knowledge from theory to practice and contribute to perfecting \"Digital\\nCompetency\" according to BAV’s students' output standards\\n\\nAt the Ceremony, Assoc.Prof.Dr. Do Thi Kim Hao – Vice President in charge of\\nthe President of BAV, said that one of the new points in the training programs\\nin BAV is to develop digital competence for students in all subjects. In\\nparticular, BAV - MB Digital Hub plays a highly important role as a great\\nsource of inspiration and motivation for BAV to reach these goals. Moreover,\\nit might also create conditions for students to have many opportunities to\\napply knowledge from theory to practice and contribute to perfecting \"Digital\\nCompetency\" according to BAV’s students' output standards\\n\\nMr. Luu Trung Thai - Vice Chairman of the Board of Directors, General Director\\nof MB, emphasized that the banking industry is entering a new phase, marking\\nthe intersection between the financial industry and digital transformation. In\\nthat process, human resources are big problems that many banks face when they\\ncannot meet the increasing demands of the current market. If BAV’s students\\nhave equipped knowledge and practical experiences right at campus thanks to\\nBAV-MB Digital Hub, they might help banks solve these problems\\n\\nBAV - MB Digital Hub is designed with high technology content and is\\nconvenient for users. At Hub, digital banking software and services are\\nsimulated intuitively, helping the lecturers design more vivid lessons and\\nstudents access the banking products development process in intuitive and\\neasy-to-understand ways   \n",
       "7                                                                                                                                                                                                                                                                                                                                                                                                                                                                                                                                                                                                                                                                                                                                                                                                                                                                                                                                                                                                how digital banking works, thereby meeting\\nthe increasing requirements of the human resource market, especially of a\\nmulti-industry financial group as MB\\n\\nExperiencing BAV-MB Digital Hub right on BAV’s campus might be the opportunity\\nfor students to understand better how digital banking works, thereby meeting\\nthe increasing requirements of the human resource market, especially of a\\nmulti-industry financial group as MB\\n\\nIn addition, MB cooperates with BAV to build two new subjects (i.e., Fintech\\nand Applied Personal Finance) and provides case studies and financial games\\nfor BAV’s training programs to create more effective interactions in teaching\\nand helping students understand more deeply about the current digital banking\\nsystem in Vietnam\\n\\n(Source: https://www.hvnh.edu.vn)\\n\\nCommunication Office-BAV   \n",
       "8                                                                                                        ## Lãnh đạo Học viện qua các thời kỳ\\n\\n_Ngày 01/06/2023.\\n18,396 lượt xem_\\n\\n**LÃNH ĐẠO HỌC VIỆN NGÂN HÀNG QUA CÁC THỜI KỲ**\\n\\n**1961 - 1965**\\n\\n|\\n\\n**Đồng chí Dương Văn Lan - Hiệu trưởng Trường Cao cấp Nghiệp vụ Ngân hàng**.\\n---|---.\\n**1965 - 1967**\\n\\n|\\n\\n**Đồng chí Vũ Thế Chi - Q. Hiệu trưởng Trường Cao cấp Nghiệp vụ Ngân hàng**.\\n**1967 - 1969**\\n\\n|\\n\\n**Đồng chí Phạm Nghiêm - Hiệu trưởng trường Cao cấp Nghiệp vụ Ngân hàng**.\\n**1969 - 1973**\\n\\n|\\n\\n**Đồng chí Hoàng Đức Hanh - Hiệu trưởng Trường Cao cấp Nghiệp vụ Ngân hàng**.\\n**1973 - 1977**\\n\\n|\\n\\n**Đồng chí Đặng Đình Nhuần - Q. Hiệu trưởng Trường Cao cấp Nghiệp vụ Ngân\\nhàng**.\\n**1977 - 1979**\\n\\n|\\n\\n**Đồng chí Lê Lộc - Hiệu trưởng Trường Cao cấp Nghiệp vụ Ngân hàng**.\\n**1979 - 1983**\\n\\n|\\n\\n**Đồng chí Phạm Ký Tế - Q.Hiệu trưởng Trường Cao cấp Nghiệp vụ Ngân hàng**.\\n**1983 - 1987**\\n\\n|\\n\\n**Đồng chí Hoàng Mạnh Quân - Hiệu trưởng Trường Cao cấp Nghiệp vụ Ngân hàng**.\\n**1987 - 1997**\\n\\n|\\n\\n**Đồng chí Nguyễn Hữu Phùng - Giám đốc Trung tâm Đào tạo và NCKH Ngân hàng**.\\n**1997 - 2004**\\n\\n|\\n\\n**Đồng chí Nguyễn Duệ - Giám đốc Học viện Ngân hàng**.\\n**2004 - 2015**\\n\\n|\\n\\n**Đồng chí Tô Ngọc Hưng - Giám đốc Học viện Ngân hàng**.\\n**2016 - 2020**\\n\\n|\\n\\n**Đồng chí Bùi Tín Nghị - Giám đốc Học viện Ngân hàng**.\\n**6/2020 đến 10/2021**\\n\\n|\\n\\n**Đồng chí Đào Minh Phúc - Chủ tịch Hội đồng Học viện**.\\n**8/2020 đến 5/2023**\\n\\n|\\n\\n**Đồng chí Đỗ Thị Kim Hảo - Phó Giám đốc Phụ trách Ban Giám đốc Học viện**.\\n**12/2021 đến nay**\\n\\n|\\n\\n**Đồng chí Bùi Hữu Toàn - Chủ tịch Hội đồng Học viện**.\\n**6/2023 đến nay**\\n\\n|\\n\\n**Đồng chí Mai Thanh Quế - Phó Giám đốc Phụ trách Ban Giám đốc Học viện**   \n",
       "9                                                                                                                                                                                                                                                                                                                                                                                                                                                                                                                                                                                                                                                                                                                                                                                                                                                                                                                                                                                                                                                                                                                                                                                                                                                                                                                                                                                                                                                                                                                                                                                                                                                           ## Lời chào mừng của Giám đốc Học viện Ngân hàng\\n\\n_Ngày 01/06/2023\\n28,410 lượt xem_\\n\\n! \\n\\n_**PGS.TS. Mai Thanh Quế**_\\n\\n_**Phó Giám đốc Phụ trách Ban Giám đốc Học viện Ngân hàng**_\\n---   \n",
       "\n",
       "                                                                                                                                        url  \n",
       "0                                                         https://hvnh.edu.vn/hvnh/vi/gioi-thieu/lich-su-hinh-thanh-va-phat-trien-1144.html  \n",
       "1                                                         https://hvnh.edu.vn/hvnh/vi/gioi-thieu/lich-su-hinh-thanh-va-phat-trien-1144.html  \n",
       "2                                                         https://hvnh.edu.vn/hvnh/vi/gioi-thieu/lich-su-hinh-thanh-va-phat-trien-1144.html  \n",
       "3                                                         https://hvnh.edu.vn/hvnh/vi/gioi-thieu/lich-su-hinh-thanh-va-phat-trien-1144.html  \n",
       "4                                                         https://hvnh.edu.vn/hvnh/vi/gioi-thieu/lich-su-hinh-thanh-va-phat-trien-1144.html  \n",
       "5  http://en.hvnh.edu.vn/hvnhta/en/news/the-handover-and-inauguration-ceremony-of-bav-mb-digital-hub-in-banking-academy-of-vietnam-437.html  \n",
       "6  http://en.hvnh.edu.vn/hvnhta/en/news/the-handover-and-inauguration-ceremony-of-bav-mb-digital-hub-in-banking-academy-of-vietnam-437.html  \n",
       "7  http://en.hvnh.edu.vn/hvnhta/en/news/the-handover-and-inauguration-ceremony-of-bav-mb-digital-hub-in-banking-academy-of-vietnam-437.html  \n",
       "8                                                        https://hvnh.edu.vn/hvnh/vi/gioi-thieu/lanh-dao-hoc-vien-qua-cac-thoi-ky-1143.html  \n",
       "9                                              https://hvnh.edu.vn/hvnh/vi/gioi-thieu/loi-chao-mung-cua-giam-doc-hoc-vien-ngan-hang-77.html  "
      ]
     },
     "execution_count": 6,
     "metadata": {},
     "output_type": "execute_result"
    }
   ],
   "source": [
    "df.head(10)"
   ]
  }
 ],
 "metadata": {
  "kernelspec": {
   "display_name": "Python 3 (ipykernel)",
   "language": "python",
   "name": "python3"
  },
  "language_info": {
   "codemirror_mode": {
    "name": "ipython",
    "version": 3
   },
   "file_extension": ".py",
   "mimetype": "text/x-python",
   "name": "python",
   "nbconvert_exporter": "python",
   "pygments_lexer": "ipython3",
   "version": "3.10.6"
  }
 },
 "nbformat": 4,
 "nbformat_minor": 5
}
